{
 "cells": [
  {
   "cell_type": "markdown",
   "metadata": {},
   "source": [
    "# Expenses in closed companies\n",
    "Recently we found out that there are many companies that are already closed or out of service, we are aiming to find if there are expenses made after the company situation as other than open."
   ]
  },
  {
   "cell_type": "code",
   "execution_count": 1,
   "metadata": {
    "collapsed": true
   },
   "outputs": [],
   "source": [
    "import pandas as pd\n",
    "import numpy as np\n",
    "from serenata_toolbox.datasets import fetch"
   ]
  },
  {
   "cell_type": "markdown",
   "metadata": {},
   "source": [
    " "
   ]
  },
  {
   "cell_type": "markdown",
   "metadata": {},
   "source": [
    " "
   ]
  },
  {
   "cell_type": "markdown",
   "metadata": {},
   "source": [
    " "
   ]
  },
  {
   "cell_type": "markdown",
   "metadata": {},
   "source": [
    " "
   ]
  },
  {
   "cell_type": "markdown",
   "metadata": {},
   "source": [
    " "
   ]
  },
  {
   "cell_type": "markdown",
   "metadata": {},
   "source": [
    " "
   ]
  },
  {
   "cell_type": "markdown",
   "metadata": {},
   "source": [
    " "
   ]
  },
  {
   "cell_type": "markdown",
   "metadata": {},
   "source": [
    " "
   ]
  },
  {
   "cell_type": "code",
   "execution_count": null,
   "metadata": {
    "scrolled": true
   },
   "outputs": [],
   "source": [
    "fetch('2016-09-03-companies.xz', '../data')\n",
    "fetch('2016-11-19-reimbursements.xz', '../data')"
   ]
  },
  {
   "cell_type": "markdown",
   "metadata": {},
   "source": [
    " "
   ]
  },
  {
   "cell_type": "markdown",
   "metadata": {},
   "source": [
    " "
   ]
  },
  {
   "cell_type": "markdown",
   "metadata": {},
   "source": [
    " "
   ]
  },
  {
   "cell_type": "markdown",
   "metadata": {},
   "source": [
    " "
   ]
  },
  {
   "cell_type": "markdown",
   "metadata": {},
   "source": [
    " "
   ]
  },
  {
   "cell_type": "markdown",
   "metadata": {},
   "source": [
    " "
   ]
  },
  {
   "cell_type": "markdown",
   "metadata": {},
   "source": [
    " "
   ]
  },
  {
   "cell_type": "markdown",
   "metadata": {},
   "source": [
    " "
   ]
  },
  {
   "cell_type": "code",
   "execution_count": 2,
   "metadata": {
    "collapsed": true
   },
   "outputs": [],
   "source": [
    "companies = pd.read_csv('../data/2016-09-03-companies.xz', low_memory=False)\n",
    "reimbursements = pd.read_csv('../data/2016-11-19-reimbursements.xz',\n",
    "                      dtype={'applicant_id': np.str,\n",
    "                             'cnpj_cpf': np.str,\n",
    "                             'congressperson_id': np.str,\n",
    "                             'subquota_number': np.str},\n",
    "                      low_memory=False)"
   ]
  },
  {
   "cell_type": "markdown",
   "metadata": {},
   "source": [
    " "
   ]
  },
  {
   "cell_type": "markdown",
   "metadata": {},
   "source": [
    " "
   ]
  },
  {
   "cell_type": "markdown",
   "metadata": {},
   "source": [
    " "
   ]
  },
  {
   "cell_type": "markdown",
   "metadata": {},
   "source": [
    " "
   ]
  },
  {
   "cell_type": "markdown",
   "metadata": {},
   "source": [
    " "
   ]
  },
  {
   "cell_type": "markdown",
   "metadata": {},
   "source": [
    " "
   ]
  },
  {
   "cell_type": "markdown",
   "metadata": {},
   "source": [
    " "
   ]
  },
  {
   "cell_type": "markdown",
   "metadata": {},
   "source": [
    " "
   ]
  },
  {
   "cell_type": "code",
   "execution_count": 3,
   "metadata": {
    "scrolled": false
   },
   "outputs": [
    {
     "data": {
      "text/html": [
       "<div>\n",
       "<style>\n",
       "    .dataframe thead tr:only-child th {\n",
       "        text-align: right;\n",
       "    }\n",
       "\n",
       "    .dataframe thead th {\n",
       "        text-align: left;\n",
       "    }\n",
       "\n",
       "    .dataframe tbody tr th {\n",
       "        vertical-align: top;\n",
       "    }\n",
       "</style>\n",
       "<table border=\"1\" class=\"dataframe\">\n",
       "  <thead>\n",
       "    <tr style=\"text-align: right;\">\n",
       "      <th></th>\n",
       "      <th>situation_date</th>\n",
       "      <th>type</th>\n",
       "      <th>name</th>\n",
       "      <th>phone</th>\n",
       "      <th>situation</th>\n",
       "      <th>neighborhood</th>\n",
       "      <th>address</th>\n",
       "      <th>number</th>\n",
       "      <th>zip_code</th>\n",
       "      <th>city</th>\n",
       "      <th>...</th>\n",
       "      <th>secondary_activity_97_code</th>\n",
       "      <th>secondary_activity_98</th>\n",
       "      <th>secondary_activity_98_code</th>\n",
       "      <th>secondary_activity_99</th>\n",
       "      <th>secondary_activity_99_code</th>\n",
       "      <th>secondary_activity_9_code</th>\n",
       "      <th>latitude</th>\n",
       "      <th>longitude</th>\n",
       "      <th>latitude.1</th>\n",
       "      <th>longitude.1</th>\n",
       "    </tr>\n",
       "  </thead>\n",
       "  <tbody>\n",
       "    <tr>\n",
       "      <th>0</th>\n",
       "      <td>03/11/2005</td>\n",
       "      <td>MATRIZ</td>\n",
       "      <td>COMPANHIA DE AGUAS E ESGOTOS DE RORAIMA CAER</td>\n",
       "      <td>(95) 3626-5165</td>\n",
       "      <td>ATIVA</td>\n",
       "      <td>SAO PEDRO</td>\n",
       "      <td>R MELVIN JONES</td>\n",
       "      <td>219</td>\n",
       "      <td>69.306-610</td>\n",
       "      <td>BOA VISTA</td>\n",
       "      <td>...</td>\n",
       "      <td>NaN</td>\n",
       "      <td>NaN</td>\n",
       "      <td>NaN</td>\n",
       "      <td>NaN</td>\n",
       "      <td>NaN</td>\n",
       "      <td>NaN</td>\n",
       "      <td>2.827880</td>\n",
       "      <td>-60.660094</td>\n",
       "      <td>2.827880</td>\n",
       "      <td>-60.660094</td>\n",
       "    </tr>\n",
       "    <tr>\n",
       "      <th>1</th>\n",
       "      <td>25/07/2012</td>\n",
       "      <td>MATRIZ</td>\n",
       "      <td>MG TERMINAIS RODOVIARIOS LTDA.</td>\n",
       "      <td>(54) 3218-3032</td>\n",
       "      <td>ATIVA</td>\n",
       "      <td>CENTRO</td>\n",
       "      <td>R ERNESTO ALVES</td>\n",
       "      <td>1341</td>\n",
       "      <td>95.020-360</td>\n",
       "      <td>CAXIAS DO SUL</td>\n",
       "      <td>...</td>\n",
       "      <td>NaN</td>\n",
       "      <td>NaN</td>\n",
       "      <td>NaN</td>\n",
       "      <td>NaN</td>\n",
       "      <td>NaN</td>\n",
       "      <td>NaN</td>\n",
       "      <td>-29.163731</td>\n",
       "      <td>-51.175180</td>\n",
       "      <td>-29.163731</td>\n",
       "      <td>-51.175180</td>\n",
       "    </tr>\n",
       "    <tr>\n",
       "      <th>2</th>\n",
       "      <td>09/11/2004</td>\n",
       "      <td>MATRIZ</td>\n",
       "      <td>POSTO ROTA 116 DERIVADOS DE PETROLEO LTDA</td>\n",
       "      <td>(51) 3561-2029 / (51) 3561-2029</td>\n",
       "      <td>ATIVA</td>\n",
       "      <td>PRIMAVERA</td>\n",
       "      <td>R LATERAL A RODOVIA BR 116</td>\n",
       "      <td>S/N</td>\n",
       "      <td>93.950-000</td>\n",
       "      <td>DOIS IRMAOS</td>\n",
       "      <td>...</td>\n",
       "      <td>NaN</td>\n",
       "      <td>NaN</td>\n",
       "      <td>NaN</td>\n",
       "      <td>NaN</td>\n",
       "      <td>NaN</td>\n",
       "      <td>NaN</td>\n",
       "      <td>-29.585206</td>\n",
       "      <td>-51.093225</td>\n",
       "      <td>-29.585206</td>\n",
       "      <td>-51.093225</td>\n",
       "    </tr>\n",
       "  </tbody>\n",
       "</table>\n",
       "<p>3 rows × 228 columns</p>\n",
       "</div>"
      ],
      "text/plain": [
       "  situation_date    type                                          name  \\\n",
       "0     03/11/2005  MATRIZ  COMPANHIA DE AGUAS E ESGOTOS DE RORAIMA CAER   \n",
       "1     25/07/2012  MATRIZ                MG TERMINAIS RODOVIARIOS LTDA.   \n",
       "2     09/11/2004  MATRIZ     POSTO ROTA 116 DERIVADOS DE PETROLEO LTDA   \n",
       "\n",
       "                             phone situation neighborhood  \\\n",
       "0                   (95) 3626-5165     ATIVA    SAO PEDRO   \n",
       "1                   (54) 3218-3032     ATIVA       CENTRO   \n",
       "2  (51) 3561-2029 / (51) 3561-2029     ATIVA    PRIMAVERA   \n",
       "\n",
       "                      address number    zip_code           city     ...      \\\n",
       "0              R MELVIN JONES    219  69.306-610      BOA VISTA     ...       \n",
       "1             R ERNESTO ALVES   1341  95.020-360  CAXIAS DO SUL     ...       \n",
       "2  R LATERAL A RODOVIA BR 116    S/N  93.950-000    DOIS IRMAOS     ...       \n",
       "\n",
       "  secondary_activity_97_code secondary_activity_98 secondary_activity_98_code  \\\n",
       "0                        NaN                   NaN                        NaN   \n",
       "1                        NaN                   NaN                        NaN   \n",
       "2                        NaN                   NaN                        NaN   \n",
       "\n",
       "  secondary_activity_99 secondary_activity_99_code secondary_activity_9_code  \\\n",
       "0                   NaN                        NaN                       NaN   \n",
       "1                   NaN                        NaN                       NaN   \n",
       "2                   NaN                        NaN                       NaN   \n",
       "\n",
       "    latitude  longitude latitude.1 longitude.1  \n",
       "0   2.827880 -60.660094   2.827880  -60.660094  \n",
       "1 -29.163731 -51.175180 -29.163731  -51.175180  \n",
       "2 -29.585206 -51.093225 -29.585206  -51.093225  \n",
       "\n",
       "[3 rows x 228 columns]"
      ]
     },
     "execution_count": 3,
     "metadata": {},
     "output_type": "execute_result"
    }
   ],
   "source": [
    "companies.head(3)"
   ]
  },
  {
   "cell_type": "markdown",
   "metadata": {},
   "source": [
    " "
   ]
  },
  {
   "cell_type": "markdown",
   "metadata": {},
   "source": [
    " "
   ]
  },
  {
   "cell_type": "markdown",
   "metadata": {},
   "source": [
    " "
   ]
  },
  {
   "cell_type": "markdown",
   "metadata": {},
   "source": [
    " "
   ]
  },
  {
   "cell_type": "markdown",
   "metadata": {},
   "source": [
    " "
   ]
  },
  {
   "cell_type": "markdown",
   "metadata": {},
   "source": [
    " "
   ]
  },
  {
   "cell_type": "markdown",
   "metadata": {},
   "source": [
    " "
   ]
  },
  {
   "cell_type": "markdown",
   "metadata": {},
   "source": [
    " "
   ]
  },
  {
   "cell_type": "code",
   "execution_count": 4,
   "metadata": {},
   "outputs": [
    {
     "data": {
      "text/html": [
       "<div>\n",
       "<style>\n",
       "    .dataframe thead tr:only-child th {\n",
       "        text-align: right;\n",
       "    }\n",
       "\n",
       "    .dataframe thead th {\n",
       "        text-align: left;\n",
       "    }\n",
       "\n",
       "    .dataframe tbody tr th {\n",
       "        vertical-align: top;\n",
       "    }\n",
       "</style>\n",
       "<table border=\"1\" class=\"dataframe\">\n",
       "  <thead>\n",
       "    <tr style=\"text-align: right;\">\n",
       "      <th></th>\n",
       "      <th>year</th>\n",
       "      <th>applicant_id</th>\n",
       "      <th>document_id</th>\n",
       "      <th>reimbursement_value_total</th>\n",
       "      <th>total_net_value</th>\n",
       "      <th>reimbursement_numbers</th>\n",
       "      <th>congressperson_name</th>\n",
       "      <th>congressperson_id</th>\n",
       "      <th>congressperson_document</th>\n",
       "      <th>term</th>\n",
       "      <th>...</th>\n",
       "      <th>issue_date</th>\n",
       "      <th>document_value</th>\n",
       "      <th>remark_value</th>\n",
       "      <th>net_values</th>\n",
       "      <th>month</th>\n",
       "      <th>installment</th>\n",
       "      <th>passenger</th>\n",
       "      <th>leg_of_the_trip</th>\n",
       "      <th>batch_number</th>\n",
       "      <th>reimbursement_values</th>\n",
       "    </tr>\n",
       "  </thead>\n",
       "  <tbody>\n",
       "    <tr>\n",
       "      <th>0</th>\n",
       "      <td>2009</td>\n",
       "      <td>1001</td>\n",
       "      <td>1564212</td>\n",
       "      <td>NaN</td>\n",
       "      <td>130.0</td>\n",
       "      <td>2888</td>\n",
       "      <td>DILCEU SPERAFICO</td>\n",
       "      <td>73768</td>\n",
       "      <td>444.0</td>\n",
       "      <td>2015.0</td>\n",
       "      <td>...</td>\n",
       "      <td>2009-04-06T00:00:00</td>\n",
       "      <td>130.00</td>\n",
       "      <td>0.00</td>\n",
       "      <td>130.0</td>\n",
       "      <td>4</td>\n",
       "      <td>0</td>\n",
       "      <td>NaN</td>\n",
       "      <td>NaN</td>\n",
       "      <td>388810</td>\n",
       "      <td>NaN</td>\n",
       "    </tr>\n",
       "    <tr>\n",
       "      <th>1</th>\n",
       "      <td>2009</td>\n",
       "      <td>1001</td>\n",
       "      <td>1564223</td>\n",
       "      <td>NaN</td>\n",
       "      <td>135.0</td>\n",
       "      <td>2888</td>\n",
       "      <td>DILCEU SPERAFICO</td>\n",
       "      <td>73768</td>\n",
       "      <td>444.0</td>\n",
       "      <td>2015.0</td>\n",
       "      <td>...</td>\n",
       "      <td>2009-04-07T00:00:00</td>\n",
       "      <td>141.75</td>\n",
       "      <td>6.75</td>\n",
       "      <td>135.0</td>\n",
       "      <td>4</td>\n",
       "      <td>0</td>\n",
       "      <td>NaN</td>\n",
       "      <td>NaN</td>\n",
       "      <td>388810</td>\n",
       "      <td>NaN</td>\n",
       "    </tr>\n",
       "    <tr>\n",
       "      <th>2</th>\n",
       "      <td>2009</td>\n",
       "      <td>1001</td>\n",
       "      <td>1568039</td>\n",
       "      <td>NaN</td>\n",
       "      <td>1000.0</td>\n",
       "      <td>2893</td>\n",
       "      <td>DILCEU SPERAFICO</td>\n",
       "      <td>73768</td>\n",
       "      <td>444.0</td>\n",
       "      <td>2015.0</td>\n",
       "      <td>...</td>\n",
       "      <td>2009-03-12T00:00:00</td>\n",
       "      <td>1000.00</td>\n",
       "      <td>0.00</td>\n",
       "      <td>1000.0</td>\n",
       "      <td>3</td>\n",
       "      <td>0</td>\n",
       "      <td>NaN</td>\n",
       "      <td>NaN</td>\n",
       "      <td>390159</td>\n",
       "      <td>NaN</td>\n",
       "    </tr>\n",
       "  </tbody>\n",
       "</table>\n",
       "<p>3 rows × 31 columns</p>\n",
       "</div>"
      ],
      "text/plain": [
       "   year applicant_id  document_id  reimbursement_value_total  total_net_value  \\\n",
       "0  2009         1001      1564212                        NaN            130.0   \n",
       "1  2009         1001      1564223                        NaN            135.0   \n",
       "2  2009         1001      1568039                        NaN           1000.0   \n",
       "\n",
       "  reimbursement_numbers congressperson_name congressperson_id  \\\n",
       "0                  2888    DILCEU SPERAFICO             73768   \n",
       "1                  2888    DILCEU SPERAFICO             73768   \n",
       "2                  2893    DILCEU SPERAFICO             73768   \n",
       "\n",
       "   congressperson_document    term         ...                    issue_date  \\\n",
       "0                    444.0  2015.0         ...           2009-04-06T00:00:00   \n",
       "1                    444.0  2015.0         ...           2009-04-07T00:00:00   \n",
       "2                    444.0  2015.0         ...           2009-03-12T00:00:00   \n",
       "\n",
       "  document_value  remark_value net_values month  installment passenger  \\\n",
       "0         130.00          0.00      130.0     4            0       NaN   \n",
       "1         141.75          6.75      135.0     4            0       NaN   \n",
       "2        1000.00          0.00     1000.0     3            0       NaN   \n",
       "\n",
       "  leg_of_the_trip batch_number reimbursement_values  \n",
       "0             NaN       388810                  NaN  \n",
       "1             NaN       388810                  NaN  \n",
       "2             NaN       390159                  NaN  \n",
       "\n",
       "[3 rows x 31 columns]"
      ]
     },
     "execution_count": 4,
     "metadata": {},
     "output_type": "execute_result"
    }
   ],
   "source": [
    "reimbursements.head(3)"
   ]
  },
  {
   "cell_type": "markdown",
   "metadata": {},
   "source": [
    " "
   ]
  },
  {
   "cell_type": "markdown",
   "metadata": {},
   "source": [
    " "
   ]
  },
  {
   "cell_type": "markdown",
   "metadata": {},
   "source": [
    " "
   ]
  },
  {
   "cell_type": "markdown",
   "metadata": {},
   "source": [
    " "
   ]
  },
  {
   "cell_type": "markdown",
   "metadata": {},
   "source": [
    " "
   ]
  },
  {
   "cell_type": "markdown",
   "metadata": {},
   "source": [
    " "
   ]
  },
  {
   "cell_type": "markdown",
   "metadata": {},
   "source": [
    " "
   ]
  },
  {
   "cell_type": "markdown",
   "metadata": {},
   "source": [
    " "
   ]
  },
  {
   "cell_type": "markdown",
   "metadata": {},
   "source": [
    "## Formatting\n",
    "Formatting companies situation_date and reimbursements issue_date columns to correct date format (will be needed for a query later), and formatting the companies cpnj to a format without dash and dots."
   ]
  },
  {
   "cell_type": "code",
   "execution_count": 5,
   "metadata": {},
   "outputs": [
    {
     "data": {
      "text/plain": [
       "0   2015-02-04\n",
       "1   2016-03-05\n",
       "dtype: datetime64[ns]"
      ]
     },
     "execution_count": 5,
     "metadata": {},
     "output_type": "execute_result"
    }
   ],
   "source": [
    "df = pd.DataFrame({'year': [2015, 2016],\n",
    "                   'month': [2, 3],\n",
    "                   'day': [4, 5],})\n",
    "pd.to_datetime(df)"
   ]
  },
  {
   "cell_type": "markdown",
   "metadata": {},
   "source": [
    " "
   ]
  },
  {
   "cell_type": "markdown",
   "metadata": {},
   "source": [
    " "
   ]
  },
  {
   "cell_type": "code",
   "execution_count": 6,
   "metadata": {},
   "outputs": [
    {
     "data": {
      "text/plain": [
       "'2009-04-06T00:00:00'"
      ]
     },
     "execution_count": 6,
     "metadata": {},
     "output_type": "execute_result"
    }
   ],
   "source": [
    "reimbursements.iloc[0]['issue_date']"
   ]
  },
  {
   "cell_type": "markdown",
   "metadata": {},
   "source": [
    " "
   ]
  },
  {
   "cell_type": "markdown",
   "metadata": {},
   "source": [
    " "
   ]
  },
  {
   "cell_type": "markdown",
   "metadata": {},
   "source": [
    " "
   ]
  },
  {
   "cell_type": "markdown",
   "metadata": {},
   "source": [
    " "
   ]
  },
  {
   "cell_type": "markdown",
   "metadata": {},
   "source": [
    " "
   ]
  },
  {
   "cell_type": "markdown",
   "metadata": {},
   "source": [
    " "
   ]
  },
  {
   "cell_type": "markdown",
   "metadata": {},
   "source": [
    " "
   ]
  },
  {
   "cell_type": "markdown",
   "metadata": {},
   "source": [
    " "
   ]
  },
  {
   "cell_type": "code",
   "execution_count": 7,
   "metadata": {
    "collapsed": true
   },
   "outputs": [],
   "source": [
    "reimbursements['issue_date'] = pd.to_datetime(reimbursements['issue_date'],\n",
    "                                              errors='coerce')\n",
    "companies['situation_date'] = pd.to_datetime(companies['situation_date'],\n",
    "                                             errors='coerce')"
   ]
  },
  {
   "cell_type": "code",
   "execution_count": 8,
   "metadata": {},
   "outputs": [
    {
     "data": {
      "text/plain": [
       "Timestamp('2009-04-06 00:00:00')"
      ]
     },
     "execution_count": 8,
     "metadata": {},
     "output_type": "execute_result"
    }
   ],
   "source": [
    "reimbursements.iloc[0]['issue_date']"
   ]
  },
  {
   "cell_type": "markdown",
   "metadata": {},
   "source": [
    " "
   ]
  },
  {
   "cell_type": "markdown",
   "metadata": {},
   "source": [
    " "
   ]
  },
  {
   "cell_type": "markdown",
   "metadata": {},
   "source": [
    " "
   ]
  },
  {
   "cell_type": "markdown",
   "metadata": {},
   "source": [
    " "
   ]
  },
  {
   "cell_type": "markdown",
   "metadata": {},
   "source": [
    " "
   ]
  },
  {
   "cell_type": "markdown",
   "metadata": {},
   "source": [
    " "
   ]
  },
  {
   "cell_type": "markdown",
   "metadata": {},
   "source": [
    " "
   ]
  },
  {
   "cell_type": "markdown",
   "metadata": {},
   "source": [
    " "
   ]
  },
  {
   "cell_type": "code",
   "execution_count": 9,
   "metadata": {},
   "outputs": [
    {
     "data": {
      "text/plain": [
       "'05.939.467/0001-15'"
      ]
     },
     "execution_count": 9,
     "metadata": {},
     "output_type": "execute_result"
    }
   ],
   "source": [
    "companies.iloc[0]['cnpj']"
   ]
  },
  {
   "cell_type": "code",
   "execution_count": 10,
   "metadata": {},
   "outputs": [
    {
     "data": {
      "text/plain": [
       "'05939467000115'"
      ]
     },
     "execution_count": 10,
     "metadata": {},
     "output_type": "execute_result"
    }
   ],
   "source": [
    "companies['cnpj'] = companies['cnpj'].str.replace(r'\\D', '')\n",
    "companies.iloc[0]['cnpj']"
   ]
  },
  {
   "cell_type": "markdown",
   "metadata": {},
   "source": [
    " "
   ]
  },
  {
   "cell_type": "markdown",
   "metadata": {},
   "source": [
    " "
   ]
  },
  {
   "cell_type": "markdown",
   "metadata": {},
   "source": [
    " "
   ]
  },
  {
   "cell_type": "markdown",
   "metadata": {},
   "source": [
    " "
   ]
  },
  {
   "cell_type": "markdown",
   "metadata": {},
   "source": [
    " "
   ]
  },
  {
   "cell_type": "markdown",
   "metadata": {},
   "source": [
    " "
   ]
  },
  {
   "cell_type": "markdown",
   "metadata": {},
   "source": [
    " "
   ]
  },
  {
   "cell_type": "markdown",
   "metadata": {},
   "source": [
    " "
   ]
  },
  {
   "cell_type": "markdown",
   "metadata": {},
   "source": [
    "## Not 'ABERTA'"
   ]
  },
  {
   "cell_type": "code",
   "execution_count": 11,
   "metadata": {},
   "outputs": [
    {
     "data": {
      "text/html": [
       "<div>\n",
       "<style>\n",
       "    .dataframe thead tr:only-child th {\n",
       "        text-align: right;\n",
       "    }\n",
       "\n",
       "    .dataframe thead th {\n",
       "        text-align: left;\n",
       "    }\n",
       "\n",
       "    .dataframe tbody tr th {\n",
       "        vertical-align: top;\n",
       "    }\n",
       "</style>\n",
       "<table border=\"1\" class=\"dataframe\">\n",
       "  <thead>\n",
       "    <tr style=\"text-align: right;\">\n",
       "      <th></th>\n",
       "      <th>cnpj</th>\n",
       "      <th>situation_date</th>\n",
       "      <th>situation</th>\n",
       "    </tr>\n",
       "  </thead>\n",
       "  <tbody>\n",
       "    <tr>\n",
       "      <th>37</th>\n",
       "      <td>03956142000115</td>\n",
       "      <td>2005-09-20</td>\n",
       "      <td>BAIXADA</td>\n",
       "    </tr>\n",
       "    <tr>\n",
       "      <th>248</th>\n",
       "      <td>08594693000108</td>\n",
       "      <td>2016-06-28</td>\n",
       "      <td>BAIXADA</td>\n",
       "    </tr>\n",
       "    <tr>\n",
       "      <th>329</th>\n",
       "      <td>20768047000107</td>\n",
       "      <td>2016-12-04</td>\n",
       "      <td>BAIXADA</td>\n",
       "    </tr>\n",
       "    <tr>\n",
       "      <th>364</th>\n",
       "      <td>03380051000346</td>\n",
       "      <td>2016-05-01</td>\n",
       "      <td>BAIXADA</td>\n",
       "    </tr>\n",
       "    <tr>\n",
       "      <th>395</th>\n",
       "      <td>17479634000171</td>\n",
       "      <td>2016-06-28</td>\n",
       "      <td>BAIXADA</td>\n",
       "    </tr>\n",
       "  </tbody>\n",
       "</table>\n",
       "</div>"
      ],
      "text/plain": [
       "               cnpj situation_date situation\n",
       "37   03956142000115     2005-09-20   BAIXADA\n",
       "248  08594693000108     2016-06-28   BAIXADA\n",
       "329  20768047000107     2016-12-04   BAIXADA\n",
       "364  03380051000346     2016-05-01   BAIXADA\n",
       "395  17479634000171     2016-06-28   BAIXADA"
      ]
     },
     "execution_count": 11,
     "metadata": {},
     "output_type": "execute_result"
    }
   ],
   "source": [
    "statuses = ['BAIXADA', 'NULA', 'SUSPENSA', 'INAPTA']\n",
    "not_open = companies[companies['situation'].isin(statuses)]\n",
    "not_open[['cnpj', 'situation_date','situation']].head(5)"
   ]
  },
  {
   "cell_type": "markdown",
   "metadata": {},
   "source": [
    " "
   ]
  },
  {
   "cell_type": "markdown",
   "metadata": {},
   "source": [
    " "
   ]
  },
  {
   "cell_type": "markdown",
   "metadata": {},
   "source": [
    " "
   ]
  },
  {
   "cell_type": "markdown",
   "metadata": {},
   "source": [
    " "
   ]
  },
  {
   "cell_type": "markdown",
   "metadata": {},
   "source": [
    " "
   ]
  },
  {
   "cell_type": "markdown",
   "metadata": {},
   "source": [
    " "
   ]
  },
  {
   "cell_type": "markdown",
   "metadata": {},
   "source": [
    " "
   ]
  },
  {
   "cell_type": "markdown",
   "metadata": {},
   "source": [
    " "
   ]
  },
  {
   "cell_type": "code",
   "execution_count": 12,
   "metadata": {},
   "outputs": [
    {
     "data": {
      "text/plain": [
       "(2211, 228)"
      ]
     },
     "execution_count": 12,
     "metadata": {},
     "output_type": "execute_result"
    }
   ],
   "source": [
    "not_open.shape"
   ]
  },
  {
   "cell_type": "markdown",
   "metadata": {},
   "source": [
    " "
   ]
  },
  {
   "cell_type": "markdown",
   "metadata": {},
   "source": [
    " "
   ]
  },
  {
   "cell_type": "markdown",
   "metadata": {},
   "source": [
    " "
   ]
  },
  {
   "cell_type": "markdown",
   "metadata": {},
   "source": [
    " "
   ]
  },
  {
   "cell_type": "markdown",
   "metadata": {},
   "source": [
    " "
   ]
  },
  {
   "cell_type": "markdown",
   "metadata": {},
   "source": [
    " "
   ]
  },
  {
   "cell_type": "markdown",
   "metadata": {},
   "source": [
    " "
   ]
  },
  {
   "cell_type": "markdown",
   "metadata": {},
   "source": [
    " "
   ]
  },
  {
   "cell_type": "markdown",
   "metadata": {},
   "source": [
    "The column situation_date is the one that is interesting. Expenses made after that date should be considered suspicious.\n",
    "\n",
    "The inner join on merge will give reimbursements that were requested for out of service companies."
   ]
  },
  {
   "cell_type": "code",
   "execution_count": 13,
   "metadata": {
    "collapsed": true
   },
   "outputs": [],
   "source": [
    "dataset = pd.merge(reimbursements,\n",
    "                   not_open,\n",
    "                   left_on='cnpj_cpf',\n",
    "                   right_on='cnpj')"
   ]
  },
  {
   "cell_type": "markdown",
   "metadata": {},
   "source": [
    " "
   ]
  },
  {
   "cell_type": "markdown",
   "metadata": {},
   "source": [
    " "
   ]
  },
  {
   "cell_type": "markdown",
   "metadata": {},
   "source": [
    " "
   ]
  },
  {
   "cell_type": "code",
   "execution_count": 14,
   "metadata": {},
   "outputs": [
    {
     "data": {
      "text/plain": [
       "(93133, 259)"
      ]
     },
     "execution_count": 14,
     "metadata": {},
     "output_type": "execute_result"
    }
   ],
   "source": [
    "dataset.shape"
   ]
  },
  {
   "cell_type": "markdown",
   "metadata": {},
   "source": [
    " "
   ]
  },
  {
   "cell_type": "markdown",
   "metadata": {},
   "source": [
    " "
   ]
  },
  {
   "cell_type": "markdown",
   "metadata": {},
   "source": [
    " "
   ]
  },
  {
   "cell_type": "markdown",
   "metadata": {},
   "source": [
    " "
   ]
  },
  {
   "cell_type": "markdown",
   "metadata": {},
   "source": [
    " "
   ]
  },
  {
   "cell_type": "markdown",
   "metadata": {},
   "source": [
    " "
   ]
  },
  {
   "cell_type": "markdown",
   "metadata": {},
   "source": [
    " "
   ]
  },
  {
   "cell_type": "markdown",
   "metadata": {},
   "source": [
    " "
   ]
  },
  {
   "cell_type": "code",
   "execution_count": 15,
   "metadata": {},
   "outputs": [
    {
     "data": {
      "text/html": [
       "<div>\n",
       "<style>\n",
       "    .dataframe thead tr:only-child th {\n",
       "        text-align: right;\n",
       "    }\n",
       "\n",
       "    .dataframe thead th {\n",
       "        text-align: left;\n",
       "    }\n",
       "\n",
       "    .dataframe tbody tr th {\n",
       "        vertical-align: top;\n",
       "    }\n",
       "</style>\n",
       "<table border=\"1\" class=\"dataframe\">\n",
       "  <thead>\n",
       "    <tr style=\"text-align: right;\">\n",
       "      <th></th>\n",
       "      <th>congressperson_name</th>\n",
       "      <th>issue_date</th>\n",
       "      <th>cnpj</th>\n",
       "      <th>situation_date</th>\n",
       "      <th>situation</th>\n",
       "    </tr>\n",
       "  </thead>\n",
       "  <tbody>\n",
       "    <tr>\n",
       "      <th>0</th>\n",
       "      <td>DILCEU SPERAFICO</td>\n",
       "      <td>2009-04-06</td>\n",
       "      <td>02989654001197</td>\n",
       "      <td>2013-01-03</td>\n",
       "      <td>BAIXADA</td>\n",
       "    </tr>\n",
       "    <tr>\n",
       "      <th>1</th>\n",
       "      <td>DILCEU SPERAFICO</td>\n",
       "      <td>2009-09-23</td>\n",
       "      <td>02989654001197</td>\n",
       "      <td>2013-01-03</td>\n",
       "      <td>BAIXADA</td>\n",
       "    </tr>\n",
       "    <tr>\n",
       "      <th>2</th>\n",
       "      <td>DOMINGOS DUTRA</td>\n",
       "      <td>2009-10-14</td>\n",
       "      <td>02989654001197</td>\n",
       "      <td>2013-01-03</td>\n",
       "      <td>BAIXADA</td>\n",
       "    </tr>\n",
       "    <tr>\n",
       "      <th>3</th>\n",
       "      <td>EDINHO BEZ</td>\n",
       "      <td>2009-10-19</td>\n",
       "      <td>02989654001197</td>\n",
       "      <td>2013-01-03</td>\n",
       "      <td>BAIXADA</td>\n",
       "    </tr>\n",
       "    <tr>\n",
       "      <th>4</th>\n",
       "      <td>HERMES PARCIANELLO</td>\n",
       "      <td>2009-05-29</td>\n",
       "      <td>02989654001197</td>\n",
       "      <td>2013-01-03</td>\n",
       "      <td>BAIXADA</td>\n",
       "    </tr>\n",
       "    <tr>\n",
       "      <th>5</th>\n",
       "      <td>JAIME MARTINS</td>\n",
       "      <td>2009-04-08</td>\n",
       "      <td>02989654001197</td>\n",
       "      <td>2013-01-03</td>\n",
       "      <td>BAIXADA</td>\n",
       "    </tr>\n",
       "    <tr>\n",
       "      <th>6</th>\n",
       "      <td>JOSÉ CARLOS VIEIRA</td>\n",
       "      <td>2009-07-01</td>\n",
       "      <td>02989654001197</td>\n",
       "      <td>2013-01-03</td>\n",
       "      <td>BAIXADA</td>\n",
       "    </tr>\n",
       "    <tr>\n",
       "      <th>7</th>\n",
       "      <td>PAULO BORNHAUSEN</td>\n",
       "      <td>2009-03-26</td>\n",
       "      <td>02989654001197</td>\n",
       "      <td>2013-01-03</td>\n",
       "      <td>BAIXADA</td>\n",
       "    </tr>\n",
       "    <tr>\n",
       "      <th>8</th>\n",
       "      <td>PAULO BORNHAUSEN</td>\n",
       "      <td>2009-04-07</td>\n",
       "      <td>02989654001197</td>\n",
       "      <td>2013-01-03</td>\n",
       "      <td>BAIXADA</td>\n",
       "    </tr>\n",
       "    <tr>\n",
       "      <th>9</th>\n",
       "      <td>PAULO BORNHAUSEN</td>\n",
       "      <td>2009-04-28</td>\n",
       "      <td>02989654001197</td>\n",
       "      <td>2013-01-03</td>\n",
       "      <td>BAIXADA</td>\n",
       "    </tr>\n",
       "  </tbody>\n",
       "</table>\n",
       "</div>"
      ],
      "text/plain": [
       "  congressperson_name issue_date            cnpj situation_date situation\n",
       "0    DILCEU SPERAFICO 2009-04-06  02989654001197     2013-01-03   BAIXADA\n",
       "1    DILCEU SPERAFICO 2009-09-23  02989654001197     2013-01-03   BAIXADA\n",
       "2      DOMINGOS DUTRA 2009-10-14  02989654001197     2013-01-03   BAIXADA\n",
       "3          EDINHO BEZ 2009-10-19  02989654001197     2013-01-03   BAIXADA\n",
       "4  HERMES PARCIANELLO 2009-05-29  02989654001197     2013-01-03   BAIXADA\n",
       "5       JAIME MARTINS 2009-04-08  02989654001197     2013-01-03   BAIXADA\n",
       "6  JOSÉ CARLOS VIEIRA 2009-07-01  02989654001197     2013-01-03   BAIXADA\n",
       "7    PAULO BORNHAUSEN 2009-03-26  02989654001197     2013-01-03   BAIXADA\n",
       "8    PAULO BORNHAUSEN 2009-04-07  02989654001197     2013-01-03   BAIXADA\n",
       "9    PAULO BORNHAUSEN 2009-04-28  02989654001197     2013-01-03   BAIXADA"
      ]
     },
     "execution_count": 15,
     "metadata": {},
     "output_type": "execute_result"
    }
   ],
   "source": [
    "columns = ['congressperson_name',\n",
    "           'issue_date','cnpj',\n",
    "           'situation_date',\n",
    "           'situation']\n",
    "dataset[columns].head(10)"
   ]
  },
  {
   "cell_type": "markdown",
   "metadata": {},
   "source": [
    " "
   ]
  },
  {
   "cell_type": "markdown",
   "metadata": {},
   "source": [
    " "
   ]
  },
  {
   "cell_type": "markdown",
   "metadata": {},
   "source": [
    " "
   ]
  },
  {
   "cell_type": "markdown",
   "metadata": {},
   "source": [
    " "
   ]
  },
  {
   "cell_type": "markdown",
   "metadata": {},
   "source": [
    " "
   ]
  },
  {
   "cell_type": "markdown",
   "metadata": {},
   "source": [
    " "
   ]
  },
  {
   "cell_type": "markdown",
   "metadata": {},
   "source": [
    " "
   ]
  },
  {
   "cell_type": "markdown",
   "metadata": {},
   "source": [
    " "
   ]
  },
  {
   "cell_type": "markdown",
   "metadata": {},
   "source": [
    " "
   ]
  },
  {
   "cell_type": "code",
   "execution_count": 16,
   "metadata": {},
   "outputs": [
    {
     "data": {
      "text/plain": [
       "year                                                       2009\n",
       "applicant_id                                               1001\n",
       "document_id                                             1564212\n",
       "reimbursement_value_total                                   NaN\n",
       "total_net_value                                             130\n",
       "reimbursement_numbers                                      2888\n",
       "congressperson_name                            DILCEU SPERAFICO\n",
       "congressperson_id                                         73768\n",
       "congressperson_document                                     444\n",
       "term                                                       2015\n",
       "state_x                                                      PR\n",
       "party                                                        PP\n",
       "term_id                                                      55\n",
       "subquota_number                                               3\n",
       "subquota_description                       Fuels and lubricants\n",
       "subquota_group_id                                             1\n",
       "subquota_group_description                 Veículos Automotores\n",
       "supplier                      MELHOR POSTO DE COMBUSTÍVEIS LTDA\n",
       "cnpj_cpf                                         02989654001197\n",
       "document_number                                           43059\n",
       "document_type                                                 0\n",
       "issue_date                                  2009-04-06 00:00:00\n",
       "document_value                                              130\n",
       "remark_value                                                  0\n",
       "net_values                                                  130\n",
       "month                                                         4\n",
       "installment                                                   0\n",
       "passenger                                                   NaN\n",
       "leg_of_the_trip                                             NaN\n",
       "batch_number                                             388810\n",
       "                                            ...                \n",
       "secondary_activity_88_code                                  NaN\n",
       "secondary_activity_89                                       NaN\n",
       "secondary_activity_89_code                                  NaN\n",
       "secondary_activity_8_code                                   NaN\n",
       "secondary_activity_9                                        NaN\n",
       "secondary_activity_90                                       NaN\n",
       "secondary_activity_90_code                                  NaN\n",
       "secondary_activity_91                                       NaN\n",
       "secondary_activity_91_code                                  NaN\n",
       "secondary_activity_92                                       NaN\n",
       "secondary_activity_92_code                                  NaN\n",
       "secondary_activity_93                                       NaN\n",
       "secondary_activity_93_code                                  NaN\n",
       "secondary_activity_94                                       NaN\n",
       "secondary_activity_94_code                                  NaN\n",
       "secondary_activity_95                                       NaN\n",
       "secondary_activity_95_code                                  NaN\n",
       "secondary_activity_96                                       NaN\n",
       "secondary_activity_96_code                                  NaN\n",
       "secondary_activity_97                                       NaN\n",
       "secondary_activity_97_code                                  NaN\n",
       "secondary_activity_98                                       NaN\n",
       "secondary_activity_98_code                                  NaN\n",
       "secondary_activity_99                                       NaN\n",
       "secondary_activity_99_code                                  NaN\n",
       "secondary_activity_9_code                                   NaN\n",
       "latitude                                                    NaN\n",
       "longitude                                                   NaN\n",
       "latitude.1                                                  NaN\n",
       "longitude.1                                                 NaN\n",
       "Name: 0, Length: 259, dtype: object"
      ]
     },
     "execution_count": 16,
     "metadata": {},
     "output_type": "execute_result"
    }
   ],
   "source": [
    "dataset.iloc[0]"
   ]
  },
  {
   "cell_type": "markdown",
   "metadata": {},
   "source": [
    " "
   ]
  },
  {
   "cell_type": "markdown",
   "metadata": {},
   "source": [
    " "
   ]
  },
  {
   "cell_type": "markdown",
   "metadata": {},
   "source": [
    " "
   ]
  },
  {
   "cell_type": "markdown",
   "metadata": {},
   "source": [
    " "
   ]
  },
  {
   "cell_type": "markdown",
   "metadata": {},
   "source": [
    " "
   ]
  },
  {
   "cell_type": "markdown",
   "metadata": {},
   "source": [
    " "
   ]
  },
  {
   "cell_type": "markdown",
   "metadata": {},
   "source": [
    " "
   ]
  },
  {
   "cell_type": "markdown",
   "metadata": {},
   "source": [
    " "
   ]
  },
  {
   "cell_type": "markdown",
   "metadata": {},
   "source": [
    "## Filtering suspicious reimbursements\n",
    "We have all reibursements requested for expenses made in companies that have situation other than \"open\".\n",
    "It is still necessary to check the reimbursement issue_date is \"bigger\" than the situation_date."
   ]
  },
  {
   "cell_type": "code",
   "execution_count": 17,
   "metadata": {},
   "outputs": [
    {
     "data": {
      "text/html": [
       "<div>\n",
       "<style>\n",
       "    .dataframe thead tr:only-child th {\n",
       "        text-align: right;\n",
       "    }\n",
       "\n",
       "    .dataframe thead th {\n",
       "        text-align: left;\n",
       "    }\n",
       "\n",
       "    .dataframe tbody tr th {\n",
       "        vertical-align: top;\n",
       "    }\n",
       "</style>\n",
       "<table border=\"1\" class=\"dataframe\">\n",
       "  <thead>\n",
       "    <tr style=\"text-align: right;\">\n",
       "      <th></th>\n",
       "      <th>congressperson_name</th>\n",
       "      <th>issue_date</th>\n",
       "      <th>cnpj</th>\n",
       "      <th>situation_date</th>\n",
       "      <th>situation</th>\n",
       "    </tr>\n",
       "  </thead>\n",
       "  <tbody>\n",
       "    <tr>\n",
       "      <th>2429</th>\n",
       "      <td>EDINHO ARAÚJO</td>\n",
       "      <td>2013-01-30</td>\n",
       "      <td>02989654001197</td>\n",
       "      <td>2013-01-03</td>\n",
       "      <td>BAIXADA</td>\n",
       "    </tr>\n",
       "    <tr>\n",
       "      <th>2430</th>\n",
       "      <td>EDINHO ARAÚJO</td>\n",
       "      <td>2013-02-02</td>\n",
       "      <td>02989654001197</td>\n",
       "      <td>2013-01-03</td>\n",
       "      <td>BAIXADA</td>\n",
       "    </tr>\n",
       "    <tr>\n",
       "      <th>2431</th>\n",
       "      <td>EDINHO ARAÚJO</td>\n",
       "      <td>2013-02-26</td>\n",
       "      <td>02989654001197</td>\n",
       "      <td>2013-01-03</td>\n",
       "      <td>BAIXADA</td>\n",
       "    </tr>\n",
       "    <tr>\n",
       "      <th>2432</th>\n",
       "      <td>EDINHO ARAÚJO</td>\n",
       "      <td>2013-03-01</td>\n",
       "      <td>02989654001197</td>\n",
       "      <td>2013-01-03</td>\n",
       "      <td>BAIXADA</td>\n",
       "    </tr>\n",
       "    <tr>\n",
       "      <th>2433</th>\n",
       "      <td>HERMES PARCIANELLO</td>\n",
       "      <td>2013-01-28</td>\n",
       "      <td>02989654001197</td>\n",
       "      <td>2013-01-03</td>\n",
       "      <td>BAIXADA</td>\n",
       "    </tr>\n",
       "  </tbody>\n",
       "</table>\n",
       "</div>"
      ],
      "text/plain": [
       "     congressperson_name issue_date            cnpj situation_date situation\n",
       "2429       EDINHO ARAÚJO 2013-01-30  02989654001197     2013-01-03   BAIXADA\n",
       "2430       EDINHO ARAÚJO 2013-02-02  02989654001197     2013-01-03   BAIXADA\n",
       "2431       EDINHO ARAÚJO 2013-02-26  02989654001197     2013-01-03   BAIXADA\n",
       "2432       EDINHO ARAÚJO 2013-03-01  02989654001197     2013-01-03   BAIXADA\n",
       "2433  HERMES PARCIANELLO 2013-01-28  02989654001197     2013-01-03   BAIXADA"
      ]
     },
     "execution_count": 17,
     "metadata": {},
     "output_type": "execute_result"
    }
   ],
   "source": [
    "expenses_in_closed_companies = dataset.query('issue_date > situation_date')\n",
    "expenses_in_closed_companies[columns].head()"
   ]
  },
  {
   "cell_type": "markdown",
   "metadata": {},
   "source": [
    " "
   ]
  },
  {
   "cell_type": "markdown",
   "metadata": {},
   "source": [
    " "
   ]
  },
  {
   "cell_type": "markdown",
   "metadata": {},
   "source": [
    " "
   ]
  },
  {
   "cell_type": "markdown",
   "metadata": {},
   "source": [
    " "
   ]
  },
  {
   "cell_type": "markdown",
   "metadata": {},
   "source": [
    " "
   ]
  },
  {
   "cell_type": "markdown",
   "metadata": {},
   "source": [
    " "
   ]
  },
  {
   "cell_type": "markdown",
   "metadata": {},
   "source": [
    " "
   ]
  },
  {
   "cell_type": "markdown",
   "metadata": {},
   "source": [
    " "
   ]
  },
  {
   "cell_type": "code",
   "execution_count": 18,
   "metadata": {},
   "outputs": [
    {
     "data": {
      "text/plain": [
       "(5222, 259)"
      ]
     },
     "execution_count": 18,
     "metadata": {},
     "output_type": "execute_result"
    }
   ],
   "source": [
    "expenses_in_closed_companies.shape"
   ]
  },
  {
   "cell_type": "markdown",
   "metadata": {},
   "source": [
    "We can safely say that there are 5222 suspicious reimbursements."
   ]
  }
 ],
 "metadata": {
  "kernelspec": {
   "display_name": "Python 3",
   "language": "python",
   "name": "python3"
  },
  "language_info": {
   "codemirror_mode": {
    "name": "ipython",
    "version": 3
   },
   "file_extension": ".py",
   "mimetype": "text/x-python",
   "name": "python",
   "nbconvert_exporter": "python",
   "pygments_lexer": "ipython3",
   "version": "3.6.1"
  }
 },
 "nbformat": 4,
 "nbformat_minor": 1
}
